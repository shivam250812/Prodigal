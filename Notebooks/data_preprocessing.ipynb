{
  "nbformat": 4,
  "nbformat_minor": 0,
  "metadata": {
    "colab": {
      "provenance": [],
      "gpuType": "T4"
    },
    "kernelspec": {
      "name": "python3",
      "display_name": "Python 3"
    },
    "language_info": {
      "name": "python"
    },
    "accelerator": "GPU"
  },
  "cells": [
    {
      "cell_type": "code",
      "source": [
        "import pandas as pd\n",
        "from bs4 import BeautifulSoup\n",
        "import re\n",
        "\n",
        "# Function to clean HTML tags and special characters\n",
        "def clean_text(text):\n",
        "    if pd.isna(text):  # Handle NaN values\n",
        "        return text\n",
        "\n",
        "    # Remove HTML tags using BeautifulSoup\n",
        "    soup = BeautifulSoup(text, \"html.parser\")\n",
        "    clean = soup.get_text(separator=\" \")\n",
        "\n",
        "    # Remove extra whitespace\n",
        "    clean = re.sub(r'\\s+', ' ', clean).strip()\n",
        "\n",
        "    # Remove special characters (keep alphanumeric, spaces, and basic punctuation)\n",
        "    clean = re.sub(r'[^\\w\\s.,-]', '', clean)\n",
        "\n",
        "    # Remove multiple spaces again after special character removal\n",
        "    clean = re.sub(r'\\s+', ' ', clean).strip()\n",
        "\n",
        "    return clean\n",
        "\n",
        "# Load the CSV file\n",
        "input_file = \"/content/schemes_data_web.csv\"\n",
        "df = pd.read_csv(input_file)\n",
        "\n",
        "# Columns to clean (assuming all text columns need cleaning)\n",
        "text_columns = ['Scheme Name', 'Ministries/Departments', 'Target Beneficiaries',\n",
        "                'Eligibility Criteria', 'Description & Benefits', 'Application Process', 'Tags']\n",
        "\n",
        "# Apply cleaning to each text column\n",
        "for col in text_columns:\n",
        "    df[col] = df[col].apply(clean_text)\n",
        "\n",
        "# Save the cleaned data to a new CSV file\n",
        "output_file = \"cleaned_schemes_data_web.csv\"\n",
        "df.to_csv(output_file, index=False)\n",
        "\n",
        "print(f\"Cleaned data saved to {output_file}\")"
      ],
      "metadata": {
        "colab": {
          "base_uri": "https://localhost:8080/"
        },
        "id": "PRK32y3F9YXE",
        "outputId": "0dd7d1a4-4831-4ba3-cbd2-970a699f3e9f"
      },
      "execution_count": 4,
      "outputs": [
        {
          "output_type": "stream",
          "name": "stdout",
          "text": [
            "Cleaned data saved to cleaned_schemes_data_web.csv\n"
          ]
        }
      ]
    },
    {
      "cell_type": "code",
      "source": [],
      "metadata": {
        "id": "lKfKQXlo9qVe"
      },
      "execution_count": null,
      "outputs": []
    }
  ]
}